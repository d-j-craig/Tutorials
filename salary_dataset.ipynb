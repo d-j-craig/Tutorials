{
 "cells": [
  {
   "cell_type": "code",
   "execution_count": 26,
   "id": "1b1e4efd",
   "metadata": {},
   "outputs": [
    {
     "name": "stdout",
     "output_type": "stream",
     "text": [
      "    yearsexperience    salary\n",
      "0               1.2   39344.0\n",
      "1               1.4   46206.0\n",
      "2               1.6   37732.0\n",
      "3               2.1   43526.0\n",
      "4               2.3   39892.0\n",
      "5               3.0   56643.0\n",
      "6               3.1   60151.0\n",
      "7               3.3   54446.0\n",
      "8               3.3   64446.0\n",
      "9               3.8   57190.0\n",
      "10              4.0   63219.0\n",
      "11              4.1   55795.0\n",
      "12              4.1   56958.0\n",
      "13              4.2   57082.0\n",
      "14              4.6   61112.0\n",
      "15              5.0   67939.0\n",
      "16              5.2   66030.0\n",
      "17              5.4   83089.0\n",
      "18              6.0   81364.0\n",
      "19              6.1   93941.0\n",
      "20              6.9   91739.0\n",
      "21              7.2   98274.0\n",
      "22              8.0  101303.0\n",
      "23              8.3  113813.0\n",
      "24              8.8  109432.0\n",
      "25              9.1  105583.0\n",
      "26              9.6  116970.0\n",
      "27              9.7  112636.0\n",
      "28             10.4  122392.0\n",
      "29             10.6  121873.0\n"
     ]
    }
   ],
   "source": [
    "import pandas as pd\n",
    "import numpy as np\n",
    "import janitor\n",
    "import matplotlib.pyplot as plt\n",
    "from sklearn.model_selection import train_test_split\n",
    "from sklearn.linear_model import LinearRegression\n",
    "from sklearn.metrics import mean_squared_error, r2_score, mean_absolute_error\n",
    "from sklearn.preprocessing import StandardScaler\n",
    "\n",
    "salary_raw = pd.read_csv(\"Salary_dataset.csv\").clean_names()\n",
    "salary_raw = salary_raw[['yearsexperience', 'salary']]\n",
    "\n",
    "print(salary_raw)\n"
   ]
  },
  {
   "cell_type": "code",
   "execution_count": 14,
   "id": "52847937",
   "metadata": {},
   "outputs": [
    {
     "data": {
      "text/html": [
       "<div>\n",
       "<style scoped>\n",
       "    .dataframe tbody tr th:only-of-type {\n",
       "        vertical-align: middle;\n",
       "    }\n",
       "\n",
       "    .dataframe tbody tr th {\n",
       "        vertical-align: top;\n",
       "    }\n",
       "\n",
       "    .dataframe thead th {\n",
       "        text-align: right;\n",
       "    }\n",
       "</style>\n",
       "<table border=\"1\" class=\"dataframe\">\n",
       "  <thead>\n",
       "    <tr style=\"text-align: right;\">\n",
       "      <th></th>\n",
       "      <th>yearsexperience</th>\n",
       "      <th>salary</th>\n",
       "    </tr>\n",
       "  </thead>\n",
       "  <tbody>\n",
       "    <tr>\n",
       "      <th>count</th>\n",
       "      <td>30.000000</td>\n",
       "      <td>30.000000</td>\n",
       "    </tr>\n",
       "    <tr>\n",
       "      <th>mean</th>\n",
       "      <td>5.413333</td>\n",
       "      <td>76004.000000</td>\n",
       "    </tr>\n",
       "    <tr>\n",
       "      <th>std</th>\n",
       "      <td>2.837888</td>\n",
       "      <td>27414.429785</td>\n",
       "    </tr>\n",
       "    <tr>\n",
       "      <th>min</th>\n",
       "      <td>1.200000</td>\n",
       "      <td>37732.000000</td>\n",
       "    </tr>\n",
       "    <tr>\n",
       "      <th>25%</th>\n",
       "      <td>3.300000</td>\n",
       "      <td>56721.750000</td>\n",
       "    </tr>\n",
       "    <tr>\n",
       "      <th>50%</th>\n",
       "      <td>4.800000</td>\n",
       "      <td>65238.000000</td>\n",
       "    </tr>\n",
       "    <tr>\n",
       "      <th>75%</th>\n",
       "      <td>7.800000</td>\n",
       "      <td>100545.750000</td>\n",
       "    </tr>\n",
       "    <tr>\n",
       "      <th>max</th>\n",
       "      <td>10.600000</td>\n",
       "      <td>122392.000000</td>\n",
       "    </tr>\n",
       "  </tbody>\n",
       "</table>\n",
       "</div>"
      ],
      "text/plain": [
       "       yearsexperience         salary\n",
       "count        30.000000      30.000000\n",
       "mean          5.413333   76004.000000\n",
       "std           2.837888   27414.429785\n",
       "min           1.200000   37732.000000\n",
       "25%           3.300000   56721.750000\n",
       "50%           4.800000   65238.000000\n",
       "75%           7.800000  100545.750000\n",
       "max          10.600000  122392.000000"
      ]
     },
     "execution_count": 14,
     "metadata": {},
     "output_type": "execute_result"
    }
   ],
   "source": [
    "# Descriptive Statistics\n",
    "salary_raw.describe()"
   ]
  },
  {
   "cell_type": "code",
   "execution_count": null,
   "id": "1776a588",
   "metadata": {},
   "outputs": [
    {
     "data": {
      "text/plain": [
       "<matplotlib.collections.PathCollection at 0x123084980>"
      ]
     },
     "execution_count": 17,
     "metadata": {},
     "output_type": "execute_result"
    },
    {
     "data": {
      "image/png": "[encoded data removed]",
      "text/plain": [
       "<Figure size 640x480 with 1 Axes>"
      ]
     },
     "metadata": {},
     "output_type": "display_data"
    }
   ],
   "source": [
    "# Scatter Plot - Experience vs Salary - shows clear positive correlation\n",
    "plt.scatter(salary_raw['yearsexperience'], salary_raw['salary'])"
   ]
  },
  {
   "cell_type": "code",
   "execution_count": 29,
   "id": "550f3602",
   "metadata": {},
   "outputs": [
    {
     "name": "stdout",
     "output_type": "stream",
     "text": [
      "Linear Regression Results:\n",
      "R² Score: 0.9024\n",
      "Mean Squared Error: 49830096.8559\n",
      "Mean Absolute Error: 6286.4538\n",
      "Coefficient: 9423.8153\n",
      "As experience increases by 1 year, salary increases by 9423.8153.\n",
      "Intercept: 24380.2015\n",
      "The starting salary is 24380.2015.\n"
     ]
    }
   ],
   "source": [
    "\n",
    "# 1. BASIC LINEAR REGRESSION\n",
    "\n",
    "# X is the independent variable, the 'cause' of the relationship\n",
    "X = salary_raw[['yearsexperience']] \n",
    "\n",
    "# y is the dependent variable, the 'effect' of the relationship\n",
    "y = salary_raw['salary']\n",
    "\n",
    "#How much does y change when X changes?\"\n",
    "#\"What's the relationship between X and y?\"\n",
    "\n",
    "# Split the data\n",
    "X_train, X_test, y_train, y_test = train_test_split(X, y, test_size=0.2, random_state=42)\n",
    "\n",
    "# Create and train the model\n",
    "model = LinearRegression()\n",
    "model.fit(X_train, y_train)\n",
    "\n",
    "# Make predictions\n",
    "y_pred = model.predict(X_test)\n",
    "\n",
    "# Evaluate the model\n",
    "print(\"Linear Regression Results:\")\n",
    "print(f\"R² Score: {r2_score(y_test, y_pred):.4f}\")\n",
    "print(f\"Mean Squared Error: {mean_squared_error(y_test, y_pred):.4f}\")\n",
    "print(f\"Mean Absolute Error: {mean_absolute_error(y_test, y_pred):.4f}\")\n",
    "print(f\"Coefficient: {model.coef_[0]:.4f}\") # the model coefficient is the gradient of the line\n",
    "print(f\"As experience increases by 1 year, salary increases by {model.coef_[0]:.4f}.\")\n",
    "print(f\"Intercept: {model.intercept_:.4f}\") # the model intercept is the y-axis value when X=0\n",
    "print(f\"The starting salary is {model.intercept_:.4f}.\")\n",
    "\n",
    "# The model equation\n",
    "#The model says: \"Salary = $24,380 + ($9,424 × years of experience)\"\n",
    "#So someone with:\n",
    "\n",
    "#5 years experience: $24,380 + (5 × $9,424) = $71,500\n",
    "#10 years experience: $24,380 + (10 × $9,424) = $71,620"
   ]
  },
  {
   "cell_type": "code",
   "execution_count": null,
   "id": "4ff0d7ea",
   "metadata": {},
   "outputs": [
    {
     "name": "stderr",
     "output_type": "stream",
     "text": [
      "/Library/Frameworks/Python.framework/Versions/3.13/lib/python3.13/site-packages/sklearn/utils/validation.py:2749: UserWarning: X does not have valid feature names, but LinearRegression was fitted with feature names\n",
      "  warnings.warn(\n"
     ]
    },
    {
     "data": {
      "text/plain": [
       "[<matplotlib.lines.Line2D at 0x141f85950>]"
      ]
     },
     "execution_count": 27,
     "metadata": {},
     "output_type": "execute_result"
    },
    {
     "data": {
      "image/png": "[encoded data removed]",
      "text/plain": [
       "<Figure size 640x480 with 1 Axes>"
      ]
     },
     "metadata": {},
     "output_type": "display_data"
    }
   ],
   "source": [
    "plt.scatter(X, y, alpha=0.6, label='Actual Data')\n",
    "\n",
    "# Add the regression line\n",
    "X_line = np.linspace(X.min(), X.max(), 100)  # Smooth line points, draws line between min and max salary with 100 points\n",
    "y_line = model.predict(X_line.reshape(-1, 1))  # Predicted values Uses your trained model to predict salary for each X_line point\n",
    "X_line = X_line.reshape(-1, 1)  # Converts your 100 numbers into the format sklearn expects (column format)\n",
    "# Returns 100 predicted salary values\n",
    "plt.plot(X_line, y_line, color='red', linewidth=2, label='Regression Line')"
   ]
  }
 ],
 "metadata": {
  "kernelspec": {
   "display_name": "Python 3",
   "language": "python",
   "name": "python3"
  },
  "language_info": {
   "codemirror_mode": {
    "name": "ipython",
    "version": 3
   },
   "file_extension": ".py",
   "mimetype": "text/x-python",
   "name": "python",
   "nbconvert_exporter": "python",
   "pygments_lexer": "ipython3",
   "version": "3.13.6"
  }
 },
 "nbformat": 4,
 "nbformat_minor": 5
}
